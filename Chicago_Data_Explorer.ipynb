{
  "nbformat": 4,
  "nbformat_minor": 0,
  "metadata": {
    "colab": {
      "provenance": []
    },
    "kernelspec": {
      "name": "python3",
      "display_name": "Python 3"
    },
    "language_info": {
      "name": "python"
    }
  },
  "cells": [
    {
      "cell_type": "markdown",
      "source": [
        "#Introduction\n",
        "Using this Python notebook you will:\n",
        "\n",
        "Understand three Chicago datasets\n",
        "Load the three datasets into three tables in a SQLIte database\n",
        "Execute SQL queries to answer assignment questions"
      ],
      "metadata": {
        "id": "3X11MwZNof9M"
      }
    },
    {
      "cell_type": "markdown",
      "source": [
        "#Understand the datasets\n",
        "##1. Socioeconomic Indicators in Chicago\n",
        "This dataset contains a selection of six socioeconomic indicators of public health significance and a “hardship index,” for each Chicago community area, for the years 2008 – 2012.\n",
        "\n",
        "A detailed description of this dataset and the original dataset can be obtained from the Chicago Data Portal at:\n",
        "\n",
        "https://data.cityofchicago.org/Health-Human-Services/Census-Data-Selected-socioeconomic-indicators-in-C/kn9c-c2s2\n",
        "\n",
        "##2. Chicago Public Schools\n",
        "This dataset shows all school level performance data used to create CPS School Report Cards for the 2011-2012 school year. This dataset is provided by the city of Chicago's Data Portal.\n",
        "\n",
        "A detailed description of this dataset and the original dataset can be obtained from the Chicago Data Portal at:\n",
        "\n",
        "https://data.cityofchicago.org/Education/Chicago-Public-Schools-Progress-Report-Cards-2011-/9xs2-f89t\n",
        "\n",
        "##3. Chicago Crime Data\n",
        "This dataset reflects reported incidents of crime (with the exception of murders where data exists for each victim) that occurred in the City of Chicago from 2001 to present, minus the most recent seven days.\n",
        "\n",
        "A detailed description of this dataset and the original dataset can be obtained from the Chicago Data Portal at:\n",
        "\n",
        "https://data.cityofchicago.org/Public-Safety/Crimes-2001-to-present/ijzp-q8t2"
      ],
      "metadata": {
        "id": "E55jVRSpokZ8"
      }
    },
    {
      "cell_type": "code",
      "execution_count": null,
      "metadata": {
        "colab": {
          "base_uri": "https://localhost:8080/"
        },
        "id": "vEm1gRvJoRY5",
        "outputId": "79c2ff5e-1b54-4dae-d50c-c85f02b0ef81"
      },
      "outputs": [
        {
          "output_type": "stream",
          "name": "stdout",
          "text": [
            "Requirement already satisfied: ipython-sql in /usr/local/lib/python3.11/dist-packages (0.5.0)\n",
            "Requirement already satisfied: prettytable in /usr/local/lib/python3.11/dist-packages (3.16.0)\n",
            "Requirement already satisfied: ipython in /usr/local/lib/python3.11/dist-packages (from ipython-sql) (7.34.0)\n",
            "Requirement already satisfied: sqlalchemy>=2.0 in /usr/local/lib/python3.11/dist-packages (from ipython-sql) (2.0.40)\n",
            "Requirement already satisfied: sqlparse in /usr/local/lib/python3.11/dist-packages (from ipython-sql) (0.5.3)\n",
            "Requirement already satisfied: six in /usr/local/lib/python3.11/dist-packages (from ipython-sql) (1.17.0)\n",
            "Requirement already satisfied: ipython-genutils in /usr/local/lib/python3.11/dist-packages (from ipython-sql) (0.2.0)\n",
            "Requirement already satisfied: wcwidth in /usr/local/lib/python3.11/dist-packages (from prettytable) (0.2.13)\n",
            "Requirement already satisfied: greenlet>=1 in /usr/local/lib/python3.11/dist-packages (from sqlalchemy>=2.0->ipython-sql) (3.1.1)\n",
            "Requirement already satisfied: typing-extensions>=4.6.0 in /usr/local/lib/python3.11/dist-packages (from sqlalchemy>=2.0->ipython-sql) (4.13.1)\n",
            "Requirement already satisfied: setuptools>=18.5 in /usr/local/lib/python3.11/dist-packages (from ipython->ipython-sql) (75.2.0)\n",
            "Collecting jedi>=0.16 (from ipython->ipython-sql)\n",
            "  Downloading jedi-0.19.2-py2.py3-none-any.whl.metadata (22 kB)\n",
            "Requirement already satisfied: decorator in /usr/local/lib/python3.11/dist-packages (from ipython->ipython-sql) (4.4.2)\n",
            "Requirement already satisfied: pickleshare in /usr/local/lib/python3.11/dist-packages (from ipython->ipython-sql) (0.7.5)\n",
            "Requirement already satisfied: traitlets>=4.2 in /usr/local/lib/python3.11/dist-packages (from ipython->ipython-sql) (5.7.1)\n",
            "Requirement already satisfied: prompt-toolkit!=3.0.0,!=3.0.1,<3.1.0,>=2.0.0 in /usr/local/lib/python3.11/dist-packages (from ipython->ipython-sql) (3.0.50)\n",
            "Requirement already satisfied: pygments in /usr/local/lib/python3.11/dist-packages (from ipython->ipython-sql) (2.18.0)\n",
            "Requirement already satisfied: backcall in /usr/local/lib/python3.11/dist-packages (from ipython->ipython-sql) (0.2.0)\n",
            "Requirement already satisfied: matplotlib-inline in /usr/local/lib/python3.11/dist-packages (from ipython->ipython-sql) (0.1.7)\n",
            "Requirement already satisfied: pexpect>4.3 in /usr/local/lib/python3.11/dist-packages (from ipython->ipython-sql) (4.9.0)\n",
            "Requirement already satisfied: parso<0.9.0,>=0.8.4 in /usr/local/lib/python3.11/dist-packages (from jedi>=0.16->ipython->ipython-sql) (0.8.4)\n",
            "Requirement already satisfied: ptyprocess>=0.5 in /usr/local/lib/python3.11/dist-packages (from pexpect>4.3->ipython->ipython-sql) (0.7.0)\n",
            "Downloading jedi-0.19.2-py2.py3-none-any.whl (1.6 MB)\n",
            "\u001b[2K   \u001b[90m━━━━━━━━━━━━━━━━━━━━━━━━━━━━━━━━━━━━━━━━\u001b[0m \u001b[32m1.6/1.6 MB\u001b[0m \u001b[31m11.3 MB/s\u001b[0m eta \u001b[36m0:00:00\u001b[0m\n",
            "\u001b[?25hInstalling collected packages: jedi\n",
            "Successfully installed jedi-0.19.2\n"
          ]
        }
      ],
      "source": [
        "!pip install ipython-sql prettytable\n",
        "\n",
        "import prettytable\n",
        "\n",
        "prettytable.DEFAULT = 'DEFAULT'"
      ]
    },
    {
      "cell_type": "code",
      "source": [
        "# ✅ Import the required libraries\n",
        "import pandas as pd\n",
        "import sqlite3\n",
        "\n",
        "# ✅ Establish the SQLite database connection\n",
        "conn = sqlite3.connect(\"FinalDB.db\")\n",
        "\n",
        "# ✅ Optional: Create a cursor object for executing raw SQL queries\n",
        "cursor = conn.cursor()\n",
        "\n",
        "print(\"Database connection established!\")"
      ],
      "metadata": {
        "colab": {
          "base_uri": "https://localhost:8080/"
        },
        "id": "a_46ZeAMo3K8",
        "outputId": "95e52e8a-77b8-41c7-b0e6-2385f8190bae"
      },
      "execution_count": null,
      "outputs": [
        {
          "output_type": "stream",
          "name": "stdout",
          "text": [
            "Database connection established!\n"
          ]
        }
      ]
    },
    {
      "cell_type": "code",
      "source": [
        "#Load the SQL magic module\n",
        "%load_ext sql"
      ],
      "metadata": {
        "id": "fkJIhujipKTd"
      },
      "execution_count": null,
      "outputs": []
    },
    {
      "cell_type": "code",
      "source": [
        "# Chicago Census Data\n",
        "census_url = \"https://cf-courses-data.s3.us.cloud-object-storage.appdomain.cloud/IBMDeveloperSkillsNetwork-DB0201EN-SkillsNetwork/labs/FinalModule_Coursera_V5/data/ChicagoCensusData.csv\"\n",
        "census_df = pd.read_csv(census_url)\n",
        "\n",
        "# Chicago Public Schools\n",
        "schools_url = \"https://cf-courses-data.s3.us.cloud-object-storage.appdomain.cloud/IBMDeveloperSkillsNetwork-DB0201EN-SkillsNetwork/labs/FinalModule_Coursera_V5/data/ChicagoPublicSchools.csv\"\n",
        "schools_df = pd.read_csv(schools_url)\n",
        "\n",
        "# Chicago Crime Data\n",
        "crime_url = \"https://cf-courses-data.s3.us.cloud-object-storage.appdomain.cloud/IBMDeveloperSkillsNetwork-DB0201EN-SkillsNetwork/labs/FinalModule_Coursera_V5/data/ChicagoCrimeData.csv\"\n",
        "crime_df = pd.read_csv(crime_url)"
      ],
      "metadata": {
        "id": "eYwHqtoCqJZi"
      },
      "execution_count": null,
      "outputs": []
    },
    {
      "cell_type": "code",
      "source": [
        "#Establish a connection between SQL magic module and the database FinalDB.db\n",
        "%sql sqlite:///FinalDB.db"
      ],
      "metadata": {
        "id": "ADW2iin6qNgb"
      },
      "execution_count": null,
      "outputs": []
    },
    {
      "cell_type": "code",
      "source": [
        "print(census_df.head())\n",
        "print(schools_df.head())\n",
        "print(crime_df.head())"
      ],
      "metadata": {
        "colab": {
          "base_uri": "https://localhost:8080/"
        },
        "collapsed": true,
        "id": "oIiBuiTGq7q2",
        "outputId": "a5dc5fb9-142f-41f3-be82-005bbf83a274"
      },
      "execution_count": null,
      "outputs": [
        {
          "output_type": "stream",
          "name": "stdout",
          "text": [
            "   COMMUNITY_AREA_NUMBER COMMUNITY_AREA_NAME  PERCENT_OF_HOUSING_CROWDED  \\\n",
            "0                    1.0         Rogers Park                         7.7   \n",
            "1                    2.0          West Ridge                         7.8   \n",
            "2                    3.0              Uptown                         3.8   \n",
            "3                    4.0      Lincoln Square                         3.4   \n",
            "4                    5.0        North Center                         0.3   \n",
            "\n",
            "   PERCENT_HOUSEHOLDS_BELOW_POVERTY  PERCENT_AGED_16__UNEMPLOYED  \\\n",
            "0                              23.6                          8.7   \n",
            "1                              17.2                          8.8   \n",
            "2                              24.0                          8.9   \n",
            "3                              10.9                          8.2   \n",
            "4                               7.5                          5.2   \n",
            "\n",
            "   PERCENT_AGED_25__WITHOUT_HIGH_SCHOOL_DIPLOMA  \\\n",
            "0                                          18.2   \n",
            "1                                          20.8   \n",
            "2                                          11.8   \n",
            "3                                          13.4   \n",
            "4                                           4.5   \n",
            "\n",
            "   PERCENT_AGED_UNDER_18_OR_OVER_64  PER_CAPITA_INCOME  HARDSHIP_INDEX  \n",
            "0                              27.5              23939            39.0  \n",
            "1                              38.5              23040            46.0  \n",
            "2                              22.2              35787            20.0  \n",
            "3                              25.5              37524            17.0  \n",
            "4                              26.2              57123             6.0  \n",
            "   School_ID                                     NAME_OF_SCHOOL  \\\n",
            "0     610038                  Abraham Lincoln Elementary School   \n",
            "1     610281  Adam Clayton Powell Paideia Community Academy ...   \n",
            "2     610185                Adlai E Stevenson Elementary School   \n",
            "3     609993                    Agustin Lara Elementary Academy   \n",
            "4     610513                      Air Force Academy High School   \n",
            "\n",
            "  Elementary, Middle, or High School         Street_Address     City State  \\\n",
            "0                                 ES        615 W Kemper Pl  Chicago    IL   \n",
            "1                                 ES  7511 S South Shore Dr  Chicago    IL   \n",
            "2                                 ES     8010 S Kostner Ave  Chicago    IL   \n",
            "3                                 ES     4619 S Wolcott Ave  Chicago    IL   \n",
            "4                                 HS        3630 S Wells St  Chicago    IL   \n",
            "\n",
            "   ZIP_Code    Phone_Number  \\\n",
            "0     60614  (773) 534-5720   \n",
            "1     60649  (773) 535-6650   \n",
            "2     60652  (773) 535-2280   \n",
            "3     60609  (773) 535-4389   \n",
            "4     60609  (773) 535-1590   \n",
            "\n",
            "                                                Link  \\\n",
            "0  http://schoolreports.cps.edu/SchoolProgressRep...   \n",
            "1  http://schoolreports.cps.edu/SchoolProgressRep...   \n",
            "2  http://schoolreports.cps.edu/SchoolProgressRep...   \n",
            "3  http://schoolreports.cps.edu/SchoolProgressRep...   \n",
            "4  http://schoolreports.cps.edu/SchoolProgressRep...   \n",
            "\n",
            "                      Network_Manager  ... Freshman_on_Track_Rate__  \\\n",
            "0        Fullerton Elementary Network  ...                      NDA   \n",
            "1           Skyway Elementary Network  ...                      NDA   \n",
            "2           Midway Elementary Network  ...                      NDA   \n",
            "3         Pershing Elementary Network  ...                      NDA   \n",
            "4  Southwest Side High School Network  ...                     91.8   \n",
            "\n",
            "  X_COORDINATE Y_COORDINATE   Latitude  Longitude COMMUNITY_AREA_NUMBER  \\\n",
            "0  1171699.458  1915829.428  41.924497 -87.644522                     7   \n",
            "1  1196129.985  1856209.466  41.760324 -87.556736                    43   \n",
            "2  1148427.165  1851012.215  41.747111 -87.731702                    70   \n",
            "3  1164504.290  1873959.199  41.809757 -87.672145                    61   \n",
            "4  1175177.622  1880745.126  41.828146 -87.632794                    34   \n",
            "\n",
            "  COMMUNITY_AREA_NAME  Ward Police_District                     Location  \n",
            "0        LINCOLN PARK    43              18  (41.92449696, -87.64452163)  \n",
            "1         SOUTH SHORE     7               4  (41.76032435, -87.55673627)  \n",
            "2             ASHBURN    13               8  (41.74711093, -87.73170248)  \n",
            "3            NEW CITY    20               9    (41.8097569, -87.6721446)  \n",
            "4       ARMOUR SQUARE    11               9  (41.82814609, -87.63279369)  \n",
            "\n",
            "[5 rows x 78 columns]\n",
            "         ID CASE_NUMBER        DATE                     BLOCK IUCR  \\\n",
            "0   3512276    HK587712  2004-08-28        047XX S KEDZIE AVE  890   \n",
            "1   3406613    HK456306  2004-06-26  009XX N CENTRAL PARK AVE  820   \n",
            "2   8002131    HT233595  2011-04-04        043XX S WABASH AVE  820   \n",
            "3   7903289    HT133522  2010-12-30      083XX S KINGSTON AVE  840   \n",
            "4  10402076    HZ138551  2016-02-02           033XX W 66TH ST  820   \n",
            "\n",
            "  PRIMARY_TYPE                    DESCRIPTION          LOCATION_DESCRIPTION  \\\n",
            "0        THEFT                  FROM BUILDING            SMALL RETAIL STORE   \n",
            "1        THEFT                 $500 AND UNDER                         OTHER   \n",
            "2        THEFT                 $500 AND UNDER  NURSING HOME/RETIREMENT HOME   \n",
            "3        THEFT  FINANCIAL ID THEFT: OVER $300                     RESIDENCE   \n",
            "4        THEFT                 $500 AND UNDER                         ALLEY   \n",
            "\n",
            "   ARREST  DOMESTIC  ...  DISTRICT  WARD  COMMUNITY_AREA_NUMBER  FBICODE  \\\n",
            "0   False     False  ...         9  14.0                   58.0        6   \n",
            "1   False     False  ...        11  27.0                   23.0        6   \n",
            "2   False     False  ...         2   3.0                   38.0        6   \n",
            "3   False     False  ...         4   7.0                   46.0        6   \n",
            "4   False     False  ...         8  15.0                   66.0        6   \n",
            "\n",
            "  X_COORDINATE  Y_COORDINATE  YEAR   LATITUDE  LONGITUDE  \\\n",
            "0    1155838.0     1873050.0  2004  41.807440 -87.703956   \n",
            "1    1152206.0     1906127.0  2004  41.898280 -87.716406   \n",
            "2    1177436.0     1876313.0  2011  41.815933 -87.624642   \n",
            "3    1194622.0     1850125.0  2010  41.743665 -87.562463   \n",
            "4    1155240.0     1860661.0  2016  41.773455 -87.706480   \n",
            "\n",
            "                        LOCATION  \n",
            "0    (41.8074405, -87.703955849)  \n",
            "1  (41.898279962, -87.716405505)  \n",
            "2  (41.815933131, -87.624642127)  \n",
            "3  (41.743665322, -87.562462756)  \n",
            "4  (41.773455295, -87.706480471)  \n",
            "\n",
            "[5 rows x 21 columns]\n"
          ]
        }
      ]
    },
    {
      "cell_type": "code",
      "source": [
        "census_df.to_sql(\"CENSUS_DATA\", conn, if_exists='replace', index=False)\n",
        "schools_df.to_sql(\"CHICAGO_PUBLIC_SCHOOLS\", conn, if_exists='replace', index=False)\n",
        "crime_df.to_sql(\"CHICAGO_CRIME_DATA\", conn, if_exists='replace', index=False)\n",
        "\n",
        "# Commit the changes to the database\n",
        "conn.commit()"
      ],
      "metadata": {
        "id": "O4C7iy0SrXsR"
      },
      "execution_count": null,
      "outputs": []
    },
    {
      "cell_type": "code",
      "source": [
        "%sql SELECT name FROM sqlite_master WHERE type='table';"
      ],
      "metadata": {
        "colab": {
          "base_uri": "https://localhost:8080/",
          "height": 139
        },
        "id": "RbPLhJ_Yripq",
        "outputId": "b6e6fb76-db6b-442e-ce2d-e2f07ce8ac47"
      },
      "execution_count": null,
      "outputs": [
        {
          "output_type": "stream",
          "name": "stdout",
          "text": [
            " * sqlite:///FinalDB.db\n",
            "Done.\n"
          ]
        },
        {
          "output_type": "execute_result",
          "data": {
            "text/plain": [
              "[('CENSUS_DATA',), ('CHICAGO_PUBLIC_SCHOOLS',), ('CHICAGO_CRIME_DATA',)]"
            ],
            "text/html": [
              "<table>\n",
              "    <thead>\n",
              "        <tr>\n",
              "            <th>name</th>\n",
              "        </tr>\n",
              "    </thead>\n",
              "    <tbody>\n",
              "        <tr>\n",
              "            <td>CENSUS_DATA</td>\n",
              "        </tr>\n",
              "        <tr>\n",
              "            <td>CHICAGO_PUBLIC_SCHOOLS</td>\n",
              "        </tr>\n",
              "        <tr>\n",
              "            <td>CHICAGO_CRIME_DATA</td>\n",
              "        </tr>\n",
              "    </tbody>\n",
              "</table>"
            ]
          },
          "metadata": {},
          "execution_count": 11
        }
      ]
    },
    {
      "cell_type": "markdown",
      "source": [
        "###Find the total number of crimes recorded in the CRIME table."
      ],
      "metadata": {
        "id": "7-26jIJcr_xG"
      }
    },
    {
      "cell_type": "code",
      "source": [
        "%sql SELECT COUNT(*) FROM CHICAGO_CRIME_DATA;"
      ],
      "metadata": {
        "colab": {
          "base_uri": "https://localhost:8080/",
          "height": 96
        },
        "id": "-l63PuuarlK6",
        "outputId": "c257243b-b7e5-46d9-8a91-8d8dc502e1b7"
      },
      "execution_count": null,
      "outputs": [
        {
          "output_type": "stream",
          "name": "stdout",
          "text": [
            " * sqlite:///FinalDB.db\n",
            "Done.\n"
          ]
        },
        {
          "output_type": "execute_result",
          "data": {
            "text/plain": [
              "[(533,)]"
            ],
            "text/html": [
              "<table>\n",
              "    <thead>\n",
              "        <tr>\n",
              "            <th>COUNT(*)</th>\n",
              "        </tr>\n",
              "    </thead>\n",
              "    <tbody>\n",
              "        <tr>\n",
              "            <td>533</td>\n",
              "        </tr>\n",
              "    </tbody>\n",
              "</table>"
            ]
          },
          "metadata": {},
          "execution_count": 12
        }
      ]
    },
    {
      "cell_type": "markdown",
      "source": [
        "###List community area names and numbers with per capita income less than 11000."
      ],
      "metadata": {
        "id": "3rEId9YqsTwg"
      }
    },
    {
      "cell_type": "code",
      "source": [
        "# SQL query to find community areas with per capita income less than 11000\n",
        "query = \"\"\"\n",
        "SELECT COMMUNITY_AREA_NAME, COMMUNITY_AREA_NUMBER\n",
        "FROM CENSUS_DATA\n",
        "WHERE PER_CAPITA_INCOME < 11000;\n",
        "\"\"\"\n",
        "\n",
        "# Execute the query and fetch results\n",
        "result = cursor.execute(query).fetchall()\n",
        "\n",
        "# Display the result\n",
        "for row in result:\n",
        "    print(row)"
      ],
      "metadata": {
        "colab": {
          "base_uri": "https://localhost:8080/"
        },
        "id": "_q3rXqlWsDX0",
        "outputId": "f64319ad-c7ae-4bca-826d-e30a9b0dbc80"
      },
      "execution_count": null,
      "outputs": [
        {
          "output_type": "stream",
          "name": "stdout",
          "text": [
            "('West Garfield Park', 26.0)\n",
            "('South Lawndale', 30.0)\n",
            "('Fuller Park', 37.0)\n",
            "('Riverdale', 54.0)\n"
          ]
        }
      ]
    },
    {
      "cell_type": "markdown",
      "source": [
        "###List all case numbers for crimes involving minors?(children are not considered minors for the purposes of crime analysis)"
      ],
      "metadata": {
        "id": "w71Ea08btcpO"
      }
    },
    {
      "cell_type": "code",
      "source": [
        "# SQL query to find case numbers and descriptions for crimes involving minors\n",
        "query = \"\"\"\n",
        "SELECT CASE_NUMBER, PRIMARY_TYPE, DESCRIPTION\n",
        "FROM CHICAGO_CRIME_DATA\n",
        "WHERE DESCRIPTION LIKE '%minor%';\n",
        "\"\"\"\n",
        "\n",
        "# Execute the query and fetch results\n",
        "result = cursor.execute(query).fetchall()\n",
        "\n",
        "# Display the result\n",
        "for row in result:\n",
        "    print(row)"
      ],
      "metadata": {
        "colab": {
          "base_uri": "https://localhost:8080/"
        },
        "id": "UyB6uDH1sQRm",
        "outputId": "d21f39ca-960b-42f8-b40a-4da730c16f3d"
      },
      "execution_count": null,
      "outputs": [
        {
          "output_type": "stream",
          "name": "stdout",
          "text": [
            "('HL266884', 'LIQUOR LAW VIOLATION', 'SELL/GIVE/DEL LIQUOR TO MINOR')\n",
            "('HK238408', 'LIQUOR LAW VIOLATION', 'ILLEGAL CONSUMPTION BY MINOR')\n"
          ]
        }
      ]
    },
    {
      "cell_type": "markdown",
      "source": [
        "###List all kidnapping crimes involving a child?"
      ],
      "metadata": {
        "id": "j3YfHgcQtqEX"
      }
    },
    {
      "cell_type": "code",
      "source": [
        "# SQL query to find case numbers and descriptions for kidnapping crimes involving children\n",
        "query = \"\"\"\n",
        "SELECT CASE_NUMBER, PRIMARY_TYPE, DESCRIPTION\n",
        "FROM CHICAGO_CRIME_DATA\n",
        "WHERE PRIMARY_TYPE = 'KIDNAPPING' AND DESCRIPTION LIKE '%CHILD%';\n",
        "\"\"\"\n",
        "\n",
        "# Execute the query and fetch results\n",
        "result = cursor.execute(query).fetchall()\n",
        "\n",
        "# Display the result\n",
        "for row in result:\n",
        "    print(row)"
      ],
      "metadata": {
        "colab": {
          "base_uri": "https://localhost:8080/"
        },
        "id": "doWzaVIftmhN",
        "outputId": "a834e967-f412-48f4-d50a-a33e488c4cb0"
      },
      "execution_count": null,
      "outputs": [
        {
          "output_type": "stream",
          "name": "stdout",
          "text": [
            "('HN144152', 'KIDNAPPING', 'CHILD ABDUCTION/STRANGER')\n"
          ]
        }
      ]
    },
    {
      "cell_type": "markdown",
      "source": [
        "###List the kind of crimes that were recorded at schools. (No repetitions)"
      ],
      "metadata": {
        "id": "0JDCQrZiufSz"
      }
    },
    {
      "cell_type": "code",
      "source": [
        "# SQL query to find distinct crime types recorded at schools\n",
        "query = \"\"\"\n",
        "SELECT DISTINCT PRIMARY_TYPE\n",
        "FROM CHICAGO_CRIME_DATA\n",
        "WHERE LOCATION_DESCRIPTION LIKE '%SCHOOL%';\n",
        "\"\"\"\n",
        "\n",
        "# Execute the query and fetch results\n",
        "result = cursor.execute(query).fetchall()\n",
        "\n",
        "# Display the result\n",
        "for row in result:\n",
        "    print(row)"
      ],
      "metadata": {
        "colab": {
          "base_uri": "https://localhost:8080/"
        },
        "id": "jEvbrYvbuWNR",
        "outputId": "4df2e556-769f-4830-bdf2-b60da6062b2e"
      },
      "execution_count": null,
      "outputs": [
        {
          "output_type": "stream",
          "name": "stdout",
          "text": [
            "('BATTERY',)\n",
            "('CRIMINAL DAMAGE',)\n",
            "('NARCOTICS',)\n",
            "('ASSAULT',)\n",
            "('CRIMINAL TRESPASS',)\n",
            "('PUBLIC PEACE VIOLATION',)\n"
          ]
        }
      ]
    },
    {
      "cell_type": "markdown",
      "source": [
        "###List the type of schools along with the average safety score for each type."
      ],
      "metadata": {
        "id": "YmeOGyQdumQM"
      }
    },
    {
      "cell_type": "code",
      "source": [
        "# SQL query to find school types (Elementary, Middle, or High) along with average safety score\n",
        "query = \"\"\"\n",
        "SELECT \"Elementary, Middle, or High School\", AVG(SAFETY_SCORE) AS AVG_SAFETY_SCORE\n",
        "FROM CHICAGO_PUBLIC_SCHOOLS\n",
        "GROUP BY \"Elementary, Middle, or High School\";\n",
        "\"\"\"\n",
        "\n",
        "# Execute the query and fetch results\n",
        "result = cursor.execute(query).fetchall()\n",
        "\n",
        "# Display the result\n",
        "for row in result:\n",
        "    print(row)"
      ],
      "metadata": {
        "colab": {
          "base_uri": "https://localhost:8080/"
        },
        "id": "od19TQriuiJi",
        "outputId": "a47667c3-af97-4ad9-cbdd-457c6dccf5d1"
      },
      "execution_count": null,
      "outputs": [
        {
          "output_type": "stream",
          "name": "stdout",
          "text": [
            "('ES', 49.52038369304557)\n",
            "('HS', 49.62352941176471)\n",
            "('MS', 48.0)\n"
          ]
        }
      ]
    },
    {
      "cell_type": "markdown",
      "source": [
        "###List 5 community areas with highest % of households below poverty line"
      ],
      "metadata": {
        "id": "7cO6nlv4u_kO"
      }
    },
    {
      "cell_type": "code",
      "source": [
        "# SQL query to find top 5 community areas with the highest % of households below the poverty line\n",
        "query = \"\"\"\n",
        "SELECT COMMUNITY_AREA_NAME, PERCENT_HOUSEHOLDS_BELOW_POVERTY\n",
        "FROM CENSUS_DATA\n",
        "ORDER BY PERCENT_HOUSEHOLDS_BELOW_POVERTY DESC\n",
        "LIMIT 5;\n",
        "\"\"\"\n",
        "\n",
        "# Execute the query and fetch results\n",
        "result = cursor.execute(query).fetchall()\n",
        "\n",
        "# Display the result\n",
        "for row in result:\n",
        "    print(row)"
      ],
      "metadata": {
        "colab": {
          "base_uri": "https://localhost:8080/"
        },
        "id": "nDcUFu2auo3i",
        "outputId": "2f25991e-e2c8-41d8-d4fd-6ef1fb5f5daf"
      },
      "execution_count": null,
      "outputs": [
        {
          "output_type": "stream",
          "name": "stdout",
          "text": [
            "('Riverdale', 56.5)\n",
            "('Fuller Park', 51.2)\n",
            "('Englewood', 46.6)\n",
            "('North Lawndale', 43.1)\n",
            "('East Garfield Park', 42.4)\n"
          ]
        }
      ]
    },
    {
      "cell_type": "markdown",
      "source": [
        "###Which community area is most crime prone? Display the coumminty area number only."
      ],
      "metadata": {
        "id": "gfe31ejxvHsP"
      }
    },
    {
      "cell_type": "code",
      "source": [
        "# SQL query to find the community area with the most crimes\n",
        "query = \"\"\"\n",
        "SELECT COMMUNITY_AREA_NUMBER, COUNT(*) AS CRIME_COUNT\n",
        "FROM CHICAGO_CRIME_DATA\n",
        "GROUP BY COMMUNITY_AREA_NUMBER\n",
        "ORDER BY CRIME_COUNT DESC\n",
        "LIMIT 1;\n",
        "\"\"\"\n",
        "\n",
        "# Execute the query and fetch results\n",
        "result = cursor.execute(query).fetchall()\n",
        "\n",
        "# Display the result\n",
        "for row in result:\n",
        "    print(row[0])  # Displaying only the community area number"
      ],
      "metadata": {
        "colab": {
          "base_uri": "https://localhost:8080/"
        },
        "id": "KwELr9INvEbl",
        "outputId": "d6243544-ae11-4008-fd5a-a4a64892bedd"
      },
      "execution_count": null,
      "outputs": [
        {
          "output_type": "stream",
          "name": "stdout",
          "text": [
            "25.0\n"
          ]
        }
      ]
    },
    {
      "cell_type": "markdown",
      "source": [
        "###Use a sub-query to find the name of the community area with highest hardship index"
      ],
      "metadata": {
        "id": "j9F9_TZFvQe3"
      }
    },
    {
      "cell_type": "code",
      "source": [
        "# SQL query to find the community area with the highest hardship index\n",
        "query = \"\"\"\n",
        "SELECT COMMUNITY_AREA_NAME\n",
        "FROM CENSUS_DATA\n",
        "WHERE HARDSHIP_INDEX = (\n",
        "    SELECT MAX(HARDSHIP_INDEX)\n",
        "    FROM CENSUS_DATA\n",
        ");\n",
        "\"\"\"\n",
        "\n",
        "# Execute the query and fetch results\n",
        "result = cursor.execute(query).fetchall()\n",
        "\n",
        "# Display the result\n",
        "for row in result:\n",
        "    print(row[0])  # Displaying the name of the community area"
      ],
      "metadata": {
        "colab": {
          "base_uri": "https://localhost:8080/"
        },
        "id": "YHMKyLDXvMrF",
        "outputId": "be9dff50-48a8-44f7-ab35-0b879b0751cd"
      },
      "execution_count": null,
      "outputs": [
        {
          "output_type": "stream",
          "name": "stdout",
          "text": [
            "Riverdale\n"
          ]
        }
      ]
    },
    {
      "cell_type": "markdown",
      "source": [
        "###Use a sub-query to determine the Community Area Name with most number of crimes?"
      ],
      "metadata": {
        "id": "Xu2oQDMTvYQo"
      }
    },
    {
      "cell_type": "code",
      "source": [
        "# SQL query to find the community area with the most number of crimes\n",
        "query = \"\"\"\n",
        "SELECT COMMUNITY_AREA_NAME\n",
        "FROM CENSUS_DATA\n",
        "WHERE COMMUNITY_AREA_NUMBER = (\n",
        "    SELECT COMMUNITY_AREA_NUMBER\n",
        "    FROM CHICAGO_CRIME_DATA\n",
        "    GROUP BY COMMUNITY_AREA_NUMBER\n",
        "    ORDER BY COUNT(*) DESC\n",
        "    LIMIT 1\n",
        ");\n",
        "\"\"\"\n",
        "\n",
        "# Execute the query and fetch results\n",
        "result = cursor.execute(query).fetchall()\n",
        "\n",
        "# Display the result\n",
        "for row in result:\n",
        "    print(row[0])  # Displaying the name of the community area"
      ],
      "metadata": {
        "colab": {
          "base_uri": "https://localhost:8080/"
        },
        "id": "ocTnw-sjvVWu",
        "outputId": "7442155b-648b-4f67-ce8d-22b490328b44"
      },
      "execution_count": null,
      "outputs": [
        {
          "output_type": "stream",
          "name": "stdout",
          "text": [
            "Austin\n"
          ]
        }
      ]
    },
    {
      "cell_type": "markdown",
      "source": [
        "#**AUTHOR**\n",
        "**IMAD** **HUSAIN**"
      ],
      "metadata": {
        "id": "gMq4_J_pveIZ"
      }
    },
    {
      "cell_type": "code",
      "source": [],
      "metadata": {
        "id": "1dumc-i3vdUu"
      },
      "execution_count": null,
      "outputs": []
    }
  ]
}
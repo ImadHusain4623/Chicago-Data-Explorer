{
  "nbformat": 4,
  "nbformat_minor": 0,
  "metadata": {
    "colab": {
      "provenance": []
    },
    "kernelspec": {
      "name": "python3",
      "display_name": "Python 3"
    },
    "language_info": {
      "name": "python"
    }
  },
  "cells": [
    {
      "cell_type": "markdown",
      "source": [
        "#Introduction\n",
        "Using this Python notebook you will:\n",
        "\n",
        "Understand three Chicago datasets\n",
        "Load the three datasets into three tables in a SQLIte database\n",
        "Execute SQL queries to answer assignment questions"
      ],
      "metadata": {
        "id": "3X11MwZNof9M"
      }
    },
    {
      "cell_type": "markdown",
      "source": [
        "#Understand the datasets\n",
        "##1. Socioeconomic Indicators in Chicago\n",
        "This dataset contains a selection of six socioeconomic indicators of public health significance and a “hardship index,” for each Chicago community area, for the years 2008 – 2012.\n",
        "\n",
        "A detailed description of this dataset and the original dataset can be obtained from the Chicago Data Portal at:\n",
        "\n",
        "https://data.cityofchicago.org/Health-Human-Services/Census-Data-Selected-socioeconomic-indicators-in-C/kn9c-c2s2\n",
        "\n",
        "##2. Chicago Public Schools\n",
        "This dataset shows all school level performance data used to create CPS School Report Cards for the 2011-2012 school year. This dataset is provided by the city of Chicago's Data Portal.\n",
        "\n",
        "A detailed description of this dataset and the original dataset can be obtained from the Chicago Data Portal at:\n",
        "\n",
        "https://data.cityofchicago.org/Education/Chicago-Public-Schools-Progress-Report-Cards-2011-/9xs2-f89t\n",
        "\n",
        "##3. Chicago Crime Data\n",
        "This dataset reflects reported incidents of crime (with the exception of murders where data exists for each victim) that occurred in the City of Chicago from 2001 to present, minus the most recent seven days.\n",
        "\n",
        "A detailed description of this dataset and the original dataset can be obtained from the Chicago Data Portal at:\n",
        "\n",
        "https://data.cityofchicago.org/Public-Safety/Crimes-2001-to-present/ijzp-q8t2"
      ],
      "metadata": {
        "id": "E55jVRSpokZ8"
      }
    },
    {
      "cell_type": "code",
      "execution_count": null,
      "metadata": {
        "id": "vEm1gRvJoRY5"
      },
      "outputs": [],
      "source": [
        "!pip install ipython-sql prettytable\n",
        "\n",
        "import prettytable\n",
        "\n",
        "prettytable.DEFAULT = 'DEFAULT'"
      ]
    },
    {
      "cell_type": "code",
      "source": [
        "# ✅ Import the required libraries\n",
        "import pandas as pd\n",
        "import sqlite3\n",
        "\n",
        "# ✅ Establish the SQLite database connection\n",
        "conn = sqlite3.connect(\"FinalDB.db\")\n",
        "\n",
        "# ✅ Optional: Create a cursor object for executing raw SQL queries\n",
        "cursor = conn.cursor()\n",
        "\n",
        "print(\"Database connection established!\")"
      ],
      "metadata": {
        "id": "a_46ZeAMo3K8"
      },
      "execution_count": null,
      "outputs": []
    },
    {
      "cell_type": "code",
      "source": [
        "#Load the SQL magic module\n",
        "%load_ext sql"
      ],
      "metadata": {
        "id": "fkJIhujipKTd"
      },
      "execution_count": null,
      "outputs": []
    },
    {
      "cell_type": "code",
      "source": [
        "# Chicago Census Data\n",
        "census_url = \"https://cf-courses-data.s3.us.cloud-object-storage.appdomain.cloud/IBMDeveloperSkillsNetwork-DB0201EN-SkillsNetwork/labs/FinalModule_Coursera_V5/data/ChicagoCensusData.csv\"\n",
        "census_df = pd.read_csv(census_url)\n",
        "\n",
        "# Chicago Public Schools\n",
        "schools_url = \"https://cf-courses-data.s3.us.cloud-object-storage.appdomain.cloud/IBMDeveloperSkillsNetwork-DB0201EN-SkillsNetwork/labs/FinalModule_Coursera_V5/data/ChicagoPublicSchools.csv\"\n",
        "schools_df = pd.read_csv(schools_url)\n",
        "\n",
        "# Chicago Crime Data\n",
        "crime_url = \"https://cf-courses-data.s3.us.cloud-object-storage.appdomain.cloud/IBMDeveloperSkillsNetwork-DB0201EN-SkillsNetwork/labs/FinalModule_Coursera_V5/data/ChicagoCrimeData.csv\"\n",
        "crime_df = pd.read_csv(crime_url)"
      ],
      "metadata": {
        "id": "eYwHqtoCqJZi"
      },
      "execution_count": null,
      "outputs": []
    },
    {
      "cell_type": "code",
      "source": [
        "#Establish a connection between SQL magic module and the database FinalDB.db\n",
        "%sql sqlite:///FinalDB.db"
      ],
      "metadata": {
        "id": "ADW2iin6qNgb"
      },
      "execution_count": null,
      "outputs": []
    },
    {
      "cell_type": "code",
      "source": [
        "print(census_df.head())\n",
        "print(schools_df.head())\n",
        "print(crime_df.head())"
      ],
      "metadata": {
        "id": "oIiBuiTGq7q2"
      },
      "execution_count": null,
      "outputs": []
    },
    {
      "cell_type": "code",
      "source": [
        "census_df.to_sql(\"CENSUS_DATA\", conn, if_exists='replace', index=False)\n",
        "schools_df.to_sql(\"CHICAGO_PUBLIC_SCHOOLS\", conn, if_exists='replace', index=False)\n",
        "crime_df.to_sql(\"CHICAGO_CRIME_DATA\", conn, if_exists='replace', index=False)\n",
        "\n",
        "# Commit the changes to the database\n",
        "conn.commit()"
      ],
      "metadata": {
        "id": "O4C7iy0SrXsR"
      },
      "execution_count": null,
      "outputs": []
    },
    {
      "cell_type": "code",
      "source": [
        "%sql SELECT name FROM sqlite_master WHERE type='table';"
      ],
      "metadata": {
        "id": "RbPLhJ_Yripq"
      },
      "execution_count": null,
      "outputs": []
    },
    {
      "cell_type": "markdown",
      "source": [
        "###Find the total number of crimes recorded in the CRIME table."
      ],
      "metadata": {
        "id": "7-26jIJcr_xG"
      }
    },
    {
      "cell_type": "code",
      "source": [
        "%sql SELECT COUNT(*) FROM CHICAGO_CRIME_DATA;"
      ],
      "metadata": {
        "id": "-l63PuuarlK6"
      },
      "execution_count": null,
      "outputs": []
    },
    {
      "cell_type": "markdown",
      "source": [
        "###List community area names and numbers with per capita income less than 11000."
      ],
      "metadata": {
        "id": "3rEId9YqsTwg"
      }
    },
    {
      "cell_type": "code",
      "source": [
        "# SQL query to find community areas with per capita income less than 11000\n",
        "query = \"\"\"\n",
        "SELECT COMMUNITY_AREA_NAME, COMMUNITY_AREA_NUMBER\n",
        "FROM CENSUS_DATA\n",
        "WHERE PER_CAPITA_INCOME < 11000;\n",
        "\"\"\"\n",
        "\n",
        "# Execute the query and fetch results\n",
        "result = cursor.execute(query).fetchall()\n",
        "\n",
        "# Display the result\n",
        "for row in result:\n",
        "    print(row)"
      ],
      "metadata": {
        "id": "_q3rXqlWsDX0"
      },
      "execution_count": null,
      "outputs": []
    },
    {
      "cell_type": "markdown",
      "source": [
        "###List all case numbers for crimes involving minors?(children are not considered minors for the purposes of crime analysis)"
      ],
      "metadata": {
        "id": "w71Ea08btcpO"
      }
    },
    {
      "cell_type": "code",
      "source": [
        "# SQL query to find case numbers and descriptions for crimes involving minors\n",
        "query = \"\"\"\n",
        "SELECT CASE_NUMBER, PRIMARY_TYPE, DESCRIPTION\n",
        "FROM CHICAGO_CRIME_DATA\n",
        "WHERE DESCRIPTION LIKE '%minor%';\n",
        "\"\"\"\n",
        "\n",
        "# Execute the query and fetch results\n",
        "result = cursor.execute(query).fetchall()\n",
        "\n",
        "# Display the result\n",
        "for row in result:\n",
        "    print(row)"
      ],
      "metadata": {
        "id": "UyB6uDH1sQRm"
      },
      "execution_count": null,
      "outputs": []
    },
    {
      "cell_type": "markdown",
      "source": [
        "###List all kidnapping crimes involving a child?"
      ],
      "metadata": {
        "id": "j3YfHgcQtqEX"
      }
    },
    {
      "cell_type": "code",
      "source": [
        "# SQL query to find case numbers and descriptions for kidnapping crimes involving children\n",
        "query = \"\"\"\n",
        "SELECT CASE_NUMBER, PRIMARY_TYPE, DESCRIPTION\n",
        "FROM CHICAGO_CRIME_DATA\n",
        "WHERE PRIMARY_TYPE = 'KIDNAPPING' AND DESCRIPTION LIKE '%CHILD%';\n",
        "\"\"\"\n",
        "\n",
        "# Execute the query and fetch results\n",
        "result = cursor.execute(query).fetchall()\n",
        "\n",
        "# Display the result\n",
        "for row in result:\n",
        "    print(row)"
      ],
      "metadata": {
        "id": "doWzaVIftmhN"
      },
      "execution_count": null,
      "outputs": []
    },
    {
      "cell_type": "markdown",
      "source": [
        "###List the kind of crimes that were recorded at schools. (No repetitions)"
      ],
      "metadata": {
        "id": "0JDCQrZiufSz"
      }
    },
    {
      "cell_type": "code",
      "source": [
        "# SQL query to find distinct crime types recorded at schools\n",
        "query = \"\"\"\n",
        "SELECT DISTINCT PRIMARY_TYPE\n",
        "FROM CHICAGO_CRIME_DATA\n",
        "WHERE LOCATION_DESCRIPTION LIKE '%SCHOOL%';\n",
        "\"\"\"\n",
        "\n",
        "# Execute the query and fetch results\n",
        "result = cursor.execute(query).fetchall()\n",
        "\n",
        "# Display the result\n",
        "for row in result:\n",
        "    print(row)"
      ],
      "metadata": {
        "id": "jEvbrYvbuWNR"
      },
      "execution_count": null,
      "outputs": []
    },
    {
      "cell_type": "markdown",
      "source": [
        "###List the type of schools along with the average safety score for each type."
      ],
      "metadata": {
        "id": "YmeOGyQdumQM"
      }
    },
    {
      "cell_type": "code",
      "source": [
        "# SQL query to find school types (Elementary, Middle, or High) along with average safety score\n",
        "query = \"\"\"\n",
        "SELECT \"Elementary, Middle, or High School\", AVG(SAFETY_SCORE) AS AVG_SAFETY_SCORE\n",
        "FROM CHICAGO_PUBLIC_SCHOOLS\n",
        "GROUP BY \"Elementary, Middle, or High School\";\n",
        "\"\"\"\n",
        "\n",
        "# Execute the query and fetch results\n",
        "result = cursor.execute(query).fetchall()\n",
        "\n",
        "# Display the result\n",
        "for row in result:\n",
        "    print(row)"
      ],
      "metadata": {
        "id": "od19TQriuiJi"
      },
      "execution_count": null,
      "outputs": []
    },
    {
      "cell_type": "markdown",
      "source": [
        "###List 5 community areas with highest % of households below poverty line"
      ],
      "metadata": {
        "id": "7cO6nlv4u_kO"
      }
    },
    {
      "cell_type": "code",
      "source": [
        "# SQL query to find top 5 community areas with the highest % of households below the poverty line\n",
        "query = \"\"\"\n",
        "SELECT COMMUNITY_AREA_NAME, PERCENT_HOUSEHOLDS_BELOW_POVERTY\n",
        "FROM CENSUS_DATA\n",
        "ORDER BY PERCENT_HOUSEHOLDS_BELOW_POVERTY DESC\n",
        "LIMIT 5;\n",
        "\"\"\"\n",
        "\n",
        "# Execute the query and fetch results\n",
        "result = cursor.execute(query).fetchall()\n",
        "\n",
        "# Display the result\n",
        "for row in result:\n",
        "    print(row)"
      ],
      "metadata": {
        "id": "nDcUFu2auo3i"
      },
      "execution_count": null,
      "outputs": []
    },
    {
      "cell_type": "markdown",
      "source": [
        "###Which community area is most crime prone? Display the coumminty area number only."
      ],
      "metadata": {
        "id": "gfe31ejxvHsP"
      }
    },
    {
      "cell_type": "code",
      "source": [
        "# SQL query to find the community area with the most crimes\n",
        "query = \"\"\"\n",
        "SELECT COMMUNITY_AREA_NUMBER, COUNT(*) AS CRIME_COUNT\n",
        "FROM CHICAGO_CRIME_DATA\n",
        "GROUP BY COMMUNITY_AREA_NUMBER\n",
        "ORDER BY CRIME_COUNT DESC\n",
        "LIMIT 1;\n",
        "\"\"\"\n",
        "\n",
        "# Execute the query and fetch results\n",
        "result = cursor.execute(query).fetchall()\n",
        "\n",
        "# Display the result\n",
        "for row in result:\n",
        "    print(row[0])  # Displaying only the community area number"
      ],
      "metadata": {
        "id": "KwELr9INvEbl"
      },
      "execution_count": null,
      "outputs": []
    },
    {
      "cell_type": "markdown",
      "source": [
        "###Use a sub-query to find the name of the community area with highest hardship index"
      ],
      "metadata": {
        "id": "j9F9_TZFvQe3"
      }
    },
    {
      "cell_type": "code",
      "source": [
        "# SQL query to find the community area with the highest hardship index\n",
        "query = \"\"\"\n",
        "SELECT COMMUNITY_AREA_NAME\n",
        "FROM CENSUS_DATA\n",
        "WHERE HARDSHIP_INDEX = (\n",
        "    SELECT MAX(HARDSHIP_INDEX)\n",
        "    FROM CENSUS_DATA\n",
        ");\n",
        "\"\"\"\n",
        "\n",
        "# Execute the query and fetch results\n",
        "result = cursor.execute(query).fetchall()\n",
        "\n",
        "# Display the result\n",
        "for row in result:\n",
        "    print(row[0])  # Displaying the name of the community area"
      ],
      "metadata": {
        "id": "YHMKyLDXvMrF"
      },
      "execution_count": null,
      "outputs": []
    },
    {
      "cell_type": "markdown",
      "source": [
        "###Use a sub-query to determine the Community Area Name with most number of crimes?"
      ],
      "metadata": {
        "id": "Xu2oQDMTvYQo"
      }
    },
    {
      "cell_type": "code",
      "source": [
        "# SQL query to find the community area with the most number of crimes\n",
        "query = \"\"\"\n",
        "SELECT COMMUNITY_AREA_NAME\n",
        "FROM CENSUS_DATA\n",
        "WHERE COMMUNITY_AREA_NUMBER = (\n",
        "    SELECT COMMUNITY_AREA_NUMBER\n",
        "    FROM CHICAGO_CRIME_DATA\n",
        "    GROUP BY COMMUNITY_AREA_NUMBER\n",
        "    ORDER BY COUNT(*) DESC\n",
        "    LIMIT 1\n",
        ");\n",
        "\"\"\"\n",
        "\n",
        "# Execute the query and fetch results\n",
        "result = cursor.execute(query).fetchall()\n",
        "\n",
        "# Display the result\n",
        "for row in result:\n",
        "    print(row[0])  # Displaying the name of the community area"
      ],
      "metadata": {
        "id": "ocTnw-sjvVWu"
      },
      "execution_count": null,
      "outputs": []
    },
    {
      "cell_type": "markdown",
      "source": [
        "#**AUTHOR**\n",
        "**IMAD** **HUSAIN**"
      ],
      "metadata": {
        "id": "gMq4_J_pveIZ"
      }
    },
    {
      "cell_type": "code",
      "source": [],
      "metadata": {
        "id": "1dumc-i3vdUu"
      },
      "execution_count": null,
      "outputs": []
    }
  ]
}
